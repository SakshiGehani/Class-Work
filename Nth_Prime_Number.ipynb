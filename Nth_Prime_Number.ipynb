{
  "nbformat": 4,
  "nbformat_minor": 0,
  "metadata": {
    "colab": {
      "name": "Nth Prime Number.ipynb",
      "provenance": [],
      "collapsed_sections": []
    },
    "kernelspec": {
      "name": "python3",
      "display_name": "Python 3"
    }
  },
  "cells": [
    {
      "cell_type": "code",
      "metadata": {
        "id": "iCXIwb1nzsOP",
        "colab_type": "code",
        "colab": {}
      },
      "source": [
        "import pandas as pd\n",
        "import numpy as np\n",
        "import math"
      ],
      "execution_count": 0,
      "outputs": []
    },
    {
      "cell_type": "code",
      "metadata": {
        "id": "Z3lvlwVb0N7y",
        "colab_type": "code",
        "colab": {}
      },
      "source": [
        "num = 0\n",
        "count = 0\n",
        "prime = []"
      ],
      "execution_count": 0,
      "outputs": []
    },
    {
      "cell_type": "code",
      "metadata": {
        "id": "69dNSb6b0mjM",
        "colab_type": "code",
        "colab": {}
      },
      "source": [
        "def nth_prime_number(n):\n",
        "    if (n==1):\n",
        "        return 2\n",
        "    \n",
        "    count = 1\n",
        "    num = 1\n",
        "    \n",
        "    while(count < n):\n",
        "        num = num + 2\n",
        "        \n",
        "        if is_prime(num):\n",
        "            prime.append(num)\n",
        "            count +=1\n",
        "    return num\n",
        "\n",
        "def is_prime(num):\n",
        "    factor = 2\n",
        "    while (factor * factor <= num):\n",
        "        if num % factor == 0:\n",
        "             return False\n",
        "        factor +=1\n",
        "    return True\n",
        "\n",
        "    "
      ],
      "execution_count": 0,
      "outputs": []
    },
    {
      "cell_type": "code",
      "metadata": {
        "id": "b9lk2_Nq-PUI",
        "colab_type": "code",
        "colab": {}
      },
      "source": [
        "\n"
      ],
      "execution_count": 0,
      "outputs": []
    },
    {
      "cell_type": "code",
      "metadata": {
        "id": "CyorpOWdDlgh",
        "colab_type": "code",
        "colab": {
          "base_uri": "https://localhost:8080/",
          "height": 35
        },
        "outputId": "9d23b021-0bd9-4a89-ff6c-01099a3ff506"
      },
      "source": [
        "nth_prime_number(7)"
      ],
      "execution_count": 54,
      "outputs": [
        {
          "output_type": "execute_result",
          "data": {
            "text/plain": [
              "17"
            ]
          },
          "metadata": {
            "tags": []
          },
          "execution_count": 54
        }
      ]
    },
    {
      "cell_type": "code",
      "metadata": {
        "id": "KSmA9x33EUoY",
        "colab_type": "code",
        "colab": {
          "base_uri": "https://localhost:8080/",
          "height": 121
        },
        "outputId": "17284eb3-d6f2-46cb-a89f-0e02983debd4"
      },
      "source": [
        "\n",
        "for x in range(0,len(prime)): \n",
        "    print (prime[x])"
      ],
      "execution_count": 55,
      "outputs": [
        {
          "output_type": "stream",
          "text": [
            "3\n",
            "5\n",
            "7\n",
            "11\n",
            "13\n",
            "17\n"
          ],
          "name": "stdout"
        }
      ]
    },
    {
      "cell_type": "code",
      "metadata": {
        "id": "NgQi6G4CJY2P",
        "colab_type": "code",
        "colab": {}
      },
      "source": [
        ""
      ],
      "execution_count": 0,
      "outputs": []
    }
  ]
}